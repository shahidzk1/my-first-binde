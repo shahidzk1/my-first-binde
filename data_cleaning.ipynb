{
 "cells": [
  {
   "cell_type": "code",
   "execution_count": 2,
   "metadata": {},
   "outputs": [],
   "source": [
    "def clean_df(df):\n",
    "    import numpy as np\n",
    "    import pandas as pd\n",
    "    with pd.option_context('mode.use_inf_as_na', True):\n",
    "        df = df.dropna()\n",
    "    is_good_mom = (df['pz'] > 0) & (df['p']<20) & (df['pT']<3)\n",
    "    is_good_coord = (abs(df['x']) < 100) & (abs(df['y']) < 100) & (df['z']>0) & (df['z']<80)\n",
    "    is_good_params = (df['distance'] > 0) & (df['distance'] < 100) & (df['chi2geo']>0) & (df['chi2geo'] < 1000) & (df['cosinepos'] > 0.5) & (df['chi2topo'] > 0) & (df['chi2topo'] < 100000) & (df['cosineneg']>0.1) & (df['eta']>1) & (df['eta']<6.5) & (df['l']<80) & (df['ldl']>0) & (df['ldl']<5000)\n",
    "    is_good_daughters = (df['chi2primneg']>0) & (df['chi2primneg'] < 3e7) & (df['chi2primpos']>0) & (df['chi2primpos']<1e6)\n",
    "    is_good_mass = (df['mass']>1.1) & (df['mass']<2)\n",
    "\n",
    "    is_good_df = (is_good_mom) & (is_good_coord) & (is_good_params) & (is_good_daughters) & (is_good_mass)\n",
    "\n",
    "    return df[is_good_df]"
   ]
  },
  {
   "cell_type": "code",
   "execution_count": null,
   "metadata": {},
   "outputs": [],
   "source": []
  }
 ],
 "metadata": {
  "kernelspec": {
   "display_name": "Python 3",
   "language": "python",
   "name": "python3"
  },
  "language_info": {
   "codemirror_mode": {
    "name": "ipython",
    "version": 3
   },
   "file_extension": ".py",
   "mimetype": "text/x-python",
   "name": "python",
   "nbconvert_exporter": "python",
   "pygments_lexer": "ipython3",
   "version": "3.7.6"
  }
 },
 "nbformat": 4,
 "nbformat_minor": 4
}
