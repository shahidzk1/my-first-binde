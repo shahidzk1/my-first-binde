{
 "cells": [
  {
   "cell_type": "code",
   "execution_count": null,
   "id": "mental-xerox",
   "metadata": {},
   "outputs": [],
   "source": [
    "import numpy as np\n",
    "import pandas as pd\n",
    "import matplotlib.pyplot as plt\n",
    "\n",
    "import xgboost as xgb\n",
    "from sklearn.model_selection import train_test_split\n",
    "from sklearn.metrics import confusion_matrix\n",
    "\n",
    "from sklearn.model_selection import RandomizedSearchCV, cross_val_score\n",
    "from scipy.stats import uniform\n",
    "\n",
    "import weakref \n",
    "\n",
    "from bayes_opt import BayesianOptimization\n",
    "\n",
    "\n",
    "from data_cleaning import clean_df\n",
    "from KFPF_lambda_cuts import KFPF_lambda_cuts\n",
    "from plot_tools import AMS, preds_prob, plot_confusion_matrix, plt_sig_back\n",
    "import tree_importer \n",
    "import uproot\n",
    "\n",
    "\n",
    "#To save some memory we will delete unused variables\n",
    "class TestClass(object): \n",
    "    def check(self): \n",
    "        print (\"object is alive!\") \n",
    "    def __del__(self): \n",
    "        print (\"object deleted\") \n",
    "        \n",
    "from concurrent.futures import ThreadPoolExecutor\n",
    "executor = ThreadPoolExecutor(7)\n",
    "\n",
    "import gc\n",
    "import ROOT"
   ]
  },
  {
   "cell_type": "code",
   "execution_count": null,
   "id": "funky-element",
   "metadata": {},
   "outputs": [],
   "source": [
    "df_clean_signal = uproot.open('/home/shahid/cbmsoft/Cut_optimization/uncut_data/Project/dcm/dcm_signal.root:plain_tree',decompression_executor=executor,\n",
    "                                  interpretation_executor=executor).arrays(library='pd',decompression_executor=executor,\n",
    "                                  interpretation_executor=executor)\n",
    "aa = ['b', 'chi2geo','chi2primneg', 'chi2primpos', 'chi2_topo', 'cosine_first', 'cosine_second', 'cosine_topo', 'distance', 'eta', 'l', 'ldl', 'mass', 'p', 'pT', 'phi', 'px', 'py', 'pz', 'rapidity', 'vtx_chi2_first', 'vtx_chi2_second',\n",
    " 'z_first', 'z_second', 'z_smaller', 'M', 'issignal', 'id', 'nhits_mvd_first', 'nhits_mvd_second', 'nhits_mvd_sum', 'nhits_tot_first', 'nhits_tot_second', 'nhits_tot_sum', 'pid']\n",
    "df_clean_signal.columns=aa\n",
    "#signal = df_clean_signal[ (df_clean_signal['mass']>df_clean_signal['mass'].mean()-1.5*df_clean_signal['mass'].std())\n",
    "#               & (df_clean_signal['mass']<df_clean_signal['mass'].mean()+1.5*df_clean_signal['mass'].std()) & (df_clean_signal['M']>200) & (df_clean_signal['M']<400)]\n",
    "signal = df_clean_signal[ (df_clean_signal['mass']>df_clean_signal['mass'].mean()-1.5*df_clean_signal['mass'].std())\n",
    "               & (df_clean_signal['mass']<df_clean_signal['mass'].mean()+1.5*df_clean_signal['mass'].std()) &(df_clean_signal['pT']<=0.6) & (df_clean_signal['rapidity']<=1.6) &(df_clean_signal['M']>200) &(df_clean_signal['M']<400)]\n",
    "del df_clean_signal\n",
    "#signal[\"issignal\"].replace({3: 2, 4: 2, 5:2, 6:2}, inplace=True)\n",
    "#signal[\"issignal\"].replace({1: 0, 2: 1}, inplace=True)\n",
    "#signal['original_issignal']=signal['issignal']\n",
    "signal['issignal']=((signal['issignal']>0)*1)"
   ]
  },
  {
   "cell_type": "code",
   "execution_count": null,
   "id": "played-module",
   "metadata": {},
   "outputs": [],
   "source": [
    "signal['Candidates_generation']=signal['issignal']\n",
    "signal['Candidates_chi2_geo']=signal['chi2geo']\n",
    "signal['Candidates_chi2_prim_first']=signal['chi2primneg']\n",
    "signal['Candidates_chi2_prim_second']=signal['chi2primpos']\n",
    "signal['Candidates_distance']=signal['distance']\n",
    "signal['Candidates_l_over_dl']=signal['ldl']\n",
    "signal['Candidates_mass']=signal['mass']\n",
    "\n",
    "\n",
    "del signal['issignal']\n"
   ]
  },
  {
   "cell_type": "code",
   "execution_count": null,
   "id": "atomic-acrobat",
   "metadata": {},
   "outputs": [],
   "source": [
    "signal['Candidates_plain_generation']=signal['issignal']\n",
    "signal['Candidates_plain_chi2_geo']=signal['chi2geo']\n",
    "signal['Candidates_plain_chi2_prim_first']=signal['chi2primneg']\n",
    "signal['Candidates_plain_chi2_prim_second']=signal['chi2primpos']\n",
    "signal['Candidates_plain_distance']=signal['distance']\n",
    "signal['Candidates_plain_l_over_dl']=signal['ldl']\n",
    "signal['Candidates_plain_mass']=signal['mass']\n",
    "signal['Candidates_plain_chi2_topo']=signal['chi2_topo']\n",
    "signal['Candidates_plain_cosine_topo']=signal['cosine_topo']\n",
    "\n",
    "\n",
    "del signal['issignal']\n"
   ]
  },
  {
   "cell_type": "code",
   "execution_count": null,
   "id": "determined-pharmaceutical",
   "metadata": {},
   "outputs": [],
   "source": [
    "del signal['chi2geo']\n",
    "del signal['chi2primneg']\n",
    "del signal['chi2primpos']\n",
    "del signal['distance']\n",
    "del signal['ldl']\n",
    "del signal['mass']\n",
    "del signal['chi2_topo']\n",
    "del signal['cosine_topo']"
   ]
  },
  {
   "cell_type": "code",
   "execution_count": null,
   "id": "latter-joining",
   "metadata": {},
   "outputs": [],
   "source": [
    "del df_clean_urqmd['Candidates_cosine_topo']\n",
    "del df_clean_urqmd['Candidates_eta']\n",
    "del df_clean_urqmd['Candidates_pT_err']\n",
    "del df_clean_urqmd['Candidates_pid']\n",
    "del df_clean_urqmd['Candidates_pz']\n",
    "del df_clean_urqmd['Candidates_py']"
   ]
  },
  {
   "cell_type": "code",
   "execution_count": null,
   "id": "laughing-associate",
   "metadata": {},
   "outputs": [],
   "source": [
    "df_clean_urqmd.columns\n",
    "gc.collect()"
   ]
  },
  {
   "cell_type": "code",
   "execution_count": null,
   "id": "remarkable-snapshot",
   "metadata": {},
   "outputs": [],
   "source": [
    "signal.shape[0]/df_clean_urqmd[df_clean_urqmd['Candidates_generation']==0].shape[0]"
   ]
  },
  {
   "cell_type": "code",
   "execution_count": null,
   "id": "acquired-anchor",
   "metadata": {},
   "outputs": [],
   "source": [
    "df_clean_dcm= uproot.open('/home/shahid/Mount/gsi/u/Mount/lustre/khan/pfsimple/outputs/apr20_fr_18.2.1_fs_jun19p1/dcm/auau/12agev/mbias/sis100_electron_target_25_mkm/dcm_back.root:PlainTree',decompression_executor=executor,\n",
    "                                  interpretation_executor=executor).arrays(library='pd',decompression_executor=executor,\n",
    "                                  interpretation_executor=executor)\n",
    "df_clean_dcm['Candidates_generation']=((df_clean_dcm['Candidates_generation']>0)*1)\n",
    "\n",
    "df_clean_urqmd = uproot.open('/home/shahid/Mount/gsi/u/Mount/lustre/khan/scripts_treelite/urqmd_signal_dcm_back/urqmd_signal_pfsimple_output_2M.root:PlainTree',decompression_executor=executor,\n",
    "                                  interpretation_executor=executor).arrays(library='pd',decompression_executor=executor,\n",
    "                                  interpretation_executor=executor)\n",
    "df_clean_urqmd['Candidates_generation']=((df_clean_urqmd['Candidates_generation']>0)*1)"
   ]
  },
  {
   "cell_type": "code",
   "execution_count": null,
   "id": "paperback-representative",
   "metadata": {},
   "outputs": [],
   "source": [
    "df_clean_urqmd[df_clean_urqmd['Candidates_plain_generation']==1].shape\n",
    "df_clean_dcm[df_clean_dcm['Candidates_plain_generation']==0].shape"
   ]
  },
  {
   "cell_type": "code",
   "execution_count": null,
   "id": "separated-trace",
   "metadata": {},
   "outputs": [],
   "source": [
    "df_clean_urqmd = uproot.open('/home/shahid/Mount/gsi/u/Mount/lustre/khan/2M_files_analysis/urqmd_signal_only_after_plain_tree_2M//urqmd_signal.root:plain_tree',decompression_executor=executor,\n",
    "                                  interpretation_executor=executor).arrays(library='pd',decompression_executor=executor,\n",
    "                                  interpretation_executor=executor)\n",
    "#df_clean_urqmd.columns = a\n",
    "#df_clean_urqmd = df_clean_urqmd[df_clean_urqmd[\"issignal\"]>0]\n",
    "#df_clean_urqmd[\"issignal\"].replace({3: 2, 4: 2, 5:2, 6:2}, inplace=True)\n",
    "#df_clean_urqmd[\"issignal\"].replace({1: 0, 2: 1}, inplace=True)\n",
    "#df_clean_urqmd['primary_secondary']=df_clean_urqmd['issignal'].copy()\n",
    "#df_clean_urqmd['original_issignal'] = df_clean_urqmd['Candidates_generation']\n",
    "df_clean_urqmd['Candidates_plain_generation']=((df_clean_urqmd['Candidates_plain_generation']>0)*1)\n",
    "df_clean_urqmd= df_clean_urqmd[(df_clean_urqmd['Candidates_plain_M']>200)&(df_clean_urqmd['Candidates_plain_M']<300)]"
   ]
  },
  {
   "cell_type": "code",
   "execution_count": null,
   "id": "congressional-december",
   "metadata": {},
   "outputs": [],
   "source": [
    "df_clean_dcm= uproot.open('/home/shahid/Mount/gsi/u/Mount/lustre/khan/scripts_treeplainer/outputs/apr20_fr_18.2.1_fs_jun19p1/dcm/auau/12agev/mbias/sis100_electron_target_25_mkm/dcm_back.root:plain_tree',decompression_executor=executor,\n",
    "                                  interpretation_executor=executor).arrays(library='pd',decompression_executor=executor,\n",
    "                                  interpretation_executor=executor)\n",
    "\n",
    "df_clean_dcm= df_clean_dcm[(df_clean_dcm['Candidates_plain_M']>200)&(df_clean_dcm['Candidates_plain_M']<300)]"
   ]
  },
  {
   "cell_type": "code",
   "execution_count": null,
   "id": "quantitative-moore",
   "metadata": {},
   "outputs": [],
   "source": [
    "df_clean_urqmd.shape"
   ]
  },
  {
   "cell_type": "code",
   "execution_count": null,
   "id": "formal-enzyme",
   "metadata": {},
   "outputs": [],
   "source": [
    "df_clean_urqmd['Candidates_plain_generation']=((df_clean_urqmd['Candidates_plain_generation']>0)*1)"
   ]
  },
  {
   "cell_type": "code",
   "execution_count": null,
   "id": "complex-armor",
   "metadata": {},
   "outputs": [],
   "source": [
    "np.unique(df_clean_urqmd['Candidates_plain_generation'])"
   ]
  },
  {
   "cell_type": "code",
   "execution_count": null,
   "id": "subjective-difficulty",
   "metadata": {},
   "outputs": [],
   "source": [
    "def signal_back(MC, data, mass_variable, generation_id,signal_to_back_ratio):\n",
    "    signal_selected= MC[(MC[mass_variable]>1.1) & (MC[mass_variable]<1.13) & (MC[generation_id]==1)]\n",
    "    background_selected = data[(data[generation_id] == 0)\n",
    "                & ((data[mass_variable] > 1.077)\n",
    "                & (data[mass_variable] < 1.1) | (data[mass_variable]>1.13) \n",
    "                   & (data[mass_variable] < 1.2))].sample(n=signal_to_back_ratio*(signal_selected.shape[0]))\n",
    "\n",
    "    df_scaled = pd.concat([signal_selected, background_selected])\n",
    "    del signal_selected, background_selected\n",
    "    return df_scaled\n",
    "\n",
    "df_scaled = signal_back( df_clean_urqmd, df_clean_dcm,'Candidates_plain_mass', 'Candidates_plain_generation', 3)\n",
    "\n",
    "gc.collect()\n",
    "cuts = [ 'Candidates_plain_chi2_geo', 'Candidates_plain_chi2_prim_first', 'Candidates_plain_chi2_prim_second', 'Candidates_plain_distance', 'Candidates_plain_l_over_dl']\n",
    "#cuts = [ 'chi2geo', 'chi2primneg', 'chi2primpos', 'chi2_topo', 'cosine_topo', 'distance','ldl','l', 'nhits_mvd_first','nhits_mvd_second','nhits_tot_first','nhits_tot_second','vtx_chi2_first','vtx_chi2_second']\n",
    "x = df_scaled[cuts].copy()\n",
    "y =pd.DataFrame(df_scaled['Candidates_plain_generation'], dtype='int8')\n",
    "x_train, x_test, y_train, y_test = train_test_split(x, y, test_size=0.5, random_state=324, stratify=y)\n",
    "del x, y\n",
    "dtrain = xgb.DMatrix(x_train, label = y_train)\n",
    "gc.collect()"
   ]
  },
  {
   "cell_type": "code",
   "execution_count": null,
   "id": "transparent-liechtenstein",
   "metadata": {},
   "outputs": [],
   "source": [
    "fig, axs = plt_sig_back(df_scaled,'Candidates_plain_generation', 'Candidates_plain_mass')\n",
    "fig.text(0.14, 0.85, r'DCM-QGSM-SMM', color = 'red',  fontsize=13)\n",
    "fig.text(0.14, 0.8, r'Au+Au @ 12 $A$GeV/$c$', color = 'red',  fontsize=13)\n",
    "fig.text(0.14, 0.75, r'URQMD', color = 'blue', fontsize=13)\n",
    "fig.text(0.14, 0.7, r'Au+Au @ 12 $A$GeV/$c$', color = 'blue', fontsize=13)\n",
    "fig.savefig(\"hists.png\")\n",
    "\n",
    "del df_scaled"
   ]
  },
  {
   "cell_type": "code",
   "execution_count": null,
   "id": "varying-novel",
   "metadata": {
    "scrolled": true
   },
   "outputs": [],
   "source": [
    "def bo_tune_xgb(max_depth, gamma, alpha, n_estimators ,learning_rate,scale_pos_weight):\n",
    "    params = {'max_depth': int(max_depth),\n",
    "              'gamma': gamma,\n",
    "              'alpha':alpha,\n",
    "              'n_estimators': n_estimators,\n",
    "              'learning_rate':learning_rate,'scale_pos_weight':scale_pos_weight,\n",
    "              'subsample': 0.8,\n",
    "              'eval_metric': 'auc','tree_method':'hist','objective':'binary:logistic', 'nthread' : 7}\n",
    "    cv_result = xgb.cv(params=params, dtrain=dtrain, num_boost_round=10, nfold=5)\n",
    "    return  cv_result['test-auc-mean'].iloc[-1]\n",
    "\n",
    "xgb_bo = BayesianOptimization(bo_tune_xgb, {'max_depth': (4, 10),\n",
    "                                             'gamma': (0, 1),\n",
    "                                            'alpha': (2,20),\n",
    "                                             'learning_rate':(0.01,1),\n",
    "                                             'n_estimators':(100,1000),'scale_pos_weight':(1,10)\n",
    "                                            })\n",
    "\n",
    "#performing Bayesian optimization for 5 iterations with 8 steps of random exploration with an #acquisition function of expected improvement\n",
    "xgb_bo.maximize(n_iter=5, init_points=5, acq='ei')"
   ]
  },
  {
   "cell_type": "code",
   "execution_count": null,
   "id": "crucial-display",
   "metadata": {},
   "outputs": [],
   "source": [
    "max_param = xgb_bo.max['params']\n",
    "param= {'alpha': max_param['alpha'], 'gamma': max_param['gamma'], 'learning_rate': max_param['learning_rate'],\n",
    "        'max_depth': int(round(max_param['max_depth'],0)), 'n_estimators': int(round(max_param['n_estimators'],0)), \n",
    "         'objective':'binary:logistic','tree_method':'hist','nthread' : 7}\n",
    "\n",
    "#Fit/train on training data\n",
    "bst = xgb.train(param, dtrain, num_boost_round=20)\n",
    "\n",
    "#predicitions on training set\n",
    "bst_train= pd.DataFrame(data=bst.predict(dtrain),  columns=[\"xgb_preds\"])\n",
    "y_train=y_train.set_index(np.arange(0,bst_train.shape[0]))\n",
    "bst_train['Candidates_plain_generation']=y_train['Candidates_plain_generation']\n",
    "\n",
    "#predictions on test set\n",
    "dtest1=xgb.DMatrix(x_test, label = y_test)\n",
    "bst_test = pd.DataFrame(data=bst.predict(dtest1),  columns=[\"xgb_preds\"])\n",
    "y_test=y_test.set_index(np.arange(0,bst_test.shape[0]))\n",
    "bst_test['Candidates_plain_generation']=y_test['Candidates_plain_generation']\n",
    "\n",
    "#ROC cures for the predictions on train and test sets\n",
    "train_best, test_best = AMS(y_train, bst_train['xgb_preds'],y_test, bst_test['xgb_preds'])\n",
    "\n",
    "#The first argument should be a data frame, the second a column in it, in the form 'preds'\n",
    "fig, ax = preds_prob(bst_train,'xgb_preds', 'Candidates_plain_generation',bst_test,'xgb_preds', 'Candidates_plain_generation')\n",
    "fig.tight_layout()\n",
    "fig.savefig(\"hists.png\")\n",
    "#del x_train, x_test, y_train, y_test, bst_train, bst_test"
   ]
  },
  {
   "cell_type": "code",
   "execution_count": null,
   "id": "victorian-clothing",
   "metadata": {},
   "outputs": [],
   "source": [
    "dtest2 = xgb.DMatrix(df_clean_dcm[cuts], label = pd.DataFrame(df_clean_dcm['Candidates_plain_generation'], dtype='int8'))\n",
    "df_clean_dcm['xgb_preds'] = bst.predict(dtest2)\n",
    "del dtest2 \n",
    "gc.collect()\n",
    "\n",
    "df_clean_dcm[df_clean_dcm['xgb_preds']>0.9]['Candidates_plain_mass'].hist(bins=100)"
   ]
  },
  {
   "cell_type": "code",
   "execution_count": null,
   "id": "irish-raising",
   "metadata": {},
   "outputs": [],
   "source": [
    "bst.save_model('/home/shahid/cbmsoft/Cut_optimization/uncut_data/Project/pt_y_models/dcm_signal_urqmd_back_pt_0_0.6_rapdity_0_1.6.model')"
   ]
  },
  {
   "cell_type": "code",
   "execution_count": null,
   "id": "ignored-broadcasting",
   "metadata": {},
   "outputs": [],
   "source": [
    "import treelite\n",
    "#create an object out of your model, bst in our case\n",
    "model = treelite.Model.from_xgboost(bst)\n",
    "#use GCC compiler\n",
    "toolchain = 'gcc'\n",
    "#parallel_comp can be changed upto as many processors as one have\n",
    "model.export_lib(toolchain=toolchain, libpath='/home/shahid/cbmsoft/Cut_optimization/uncut_data/Project/pt_y_models/urqmd_signal_dcm_back_multi_200_400_pt_0_0.6_rapdity_0_1.6.model.so',\n",
    "                 params={'parallel_comp': 8}, verbose=True)\n",
    "\n",
    "# Operating system of the target machine\n",
    "platform = 'unix'\n",
    "# C compiler to use to compile prediction code on the target machine\n",
    "toolchain = 'gcc'\n",
    "# Save the source package as a zip archive named mymodel.zip\n",
    "# Later, we'll use this package to produce the library mymodel.so.\n",
    "model.export_srcpkg(platform=platform, toolchain=toolchain,\n",
    "                    pkgpath='/home/shahid/cbmsoft/Cut_optimization/uncut_data/Project/pt_y_models/urqmd_signal_dcm_back_multi_200_400_pt_0_0.6_rapdity_0_1.6.model.zip', libname='/home/shahid/cbmsoft/Cut_optimization/uncut_data/Project/urqmd_signal_dcm_back_multi_200_400_pt_0_0.6_rapdity_0_1.6.model.so',\n",
    "                    verbose=True)"
   ]
  },
  {
   "cell_type": "code",
   "execution_count": null,
   "id": "promotional-realtor",
   "metadata": {},
   "outputs": [],
   "source": []
  },
  {
   "cell_type": "code",
   "execution_count": null,
   "id": "chief-flavor",
   "metadata": {},
   "outputs": [],
   "source": [
    "x_train_small = x_test[0:10000]\n",
    "y_train_small = y_test[0:10000]\n",
    "dtrain_shap = xgb.DMatrix(x_train_small, label = y_train_small)\n",
    "\n",
    "import shap\n",
    "explainer = shap.TreeExplainer(bst)\n",
    "shap_values = explainer.shap_values(dtrain_shap)\n",
    "\n",
    "shap.summary_plot(shap_values, x_train_small, plot_size=[10,8], show=False)\n",
    "_, h = plt.gcf().get_size_inches()\n",
    "plt.gcf().set_size_inches(h, h)\n",
    "plt.savefig(\"hists.png\")"
   ]
  },
  {
   "cell_type": "code",
   "execution_count": null,
   "id": "norman-arbor",
   "metadata": {},
   "outputs": [],
   "source": []
  }
 ],
 "metadata": {
  "kernelspec": {
   "display_name": "Python 3 (ipykernel)",
   "language": "python",
   "name": "python3"
  },
  "language_info": {
   "codemirror_mode": {
    "name": "ipython",
    "version": 3
   },
   "file_extension": ".py",
   "mimetype": "text/x-python",
   "name": "python",
   "nbconvert_exporter": "python",
   "pygments_lexer": "ipython3",
   "version": "3.8.8"
  }
 },
 "nbformat": 4,
 "nbformat_minor": 5
}
